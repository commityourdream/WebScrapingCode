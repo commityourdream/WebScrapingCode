{
 "cells": [
  {
   "cell_type": "code",
   "execution_count": 1,
   "metadata": {},
   "outputs": [],
   "source": [
    "import requests\n",
    "import csv\n",
    "import re\n",
    "import unicodecsv\n",
    "from bs4 import BeautifulSoup"
   ]
  },
  {
   "cell_type": "code",
   "execution_count": 2,
   "metadata": {
    "scrolled": true
   },
   "outputs": [
    {
     "name": "stdout",
     "output_type": "stream",
     "text": [
      "https://www.bgr.in/reviews/10-or-d2-review-smartphone-android-oreo-amazon-india-qualcomm-snapdragon-425-18-9-screen/\n",
      "['10', '2', '425', '18', '9']\n",
      "10.or D2 Review: Built for the basics\n",
      " The key feature is the 5.45-inch 18:9 screen, which offers a better viewing experience. Affordable smartphones come in various budgets, obviously depending on your definition of ‘affordable’. While different people might call a different number affordable, you usually can’t argue with a budget of under Rs 10,000 qualifying as affordable, at least when it comes to smartphones. And while smartphones across all ranges are getting better, so are the most basic varieties. Amazon India kicked off its foray into marketing its own phones last year with the 10.or (pronounced Tenor) brand. This year, the e-commerce giant is bringing back its homegrown brand, with an aim to further make a mark on the budget smartphone space, currently dominated by the likes of Xiaomi, Samsung and others. The 10.or D2 starts at Rs 6,999, and promises a unique built-for-India smartphone experience, but can it challenge the leadership of the Xiaomi Redmi 5A? We find out in our review.  There might be more to talk about on the design elements when we’re reviewing high-end or even mid-range smartphones, but a device the like 10.or D2 doesn’t exactly have much design put into it. That’s not to say it’s bad by any means; the phone is simple and effective in its design and build. You get a plastic body that feels surprisingly solid, and has everything you need. It isn’t a good-looking phone either, but at the same time it doesn’t look bad at all. Perhaps the only somewhat unusual design aspect here is the speaker grille at the back of the phone, which is reminiscent of the old days when this was common on phones. Most devices today have the speaker grille at the bottom, which is a more convenient place to have it in my opinion. The rest is as expected, with buttons for power and volume, a 3.5mm port and micro-USB port for charging and data transfers. 10.or D2 vs Xiaomi Redmi 5A vs Infinix Smart 2: Price, specifications and features compared At the front, the 10.or D2 features a 5.45-inch HD+ 18:9 aspect ratio LTPS screen. It’s among the most affordable smartphones with the taller and more modern 18:9 screen, which enhances the video and general media consumption experience thanks to its wider aspect ratio. The screen size in the compact package also allows for a phone with a big screen and a relatively small form factor. On the whole, the phone is a generally capable looking, well-built device for the price. While there isn’t much in the way of styling on this device, it’s about as good as you can expect from a device priced at Rs 6,999. The focus of the design is on the screen, and it is appreciable that the company has managed to put a screen on the phone that isn’t commonly seen in this price range.  The 10.or D2 is powered by the Qualcomm Snapdragon 425 SoC, and comes with either 2GB RAM / 16GB storage or 3GB RAM / 32GB storage. While the latter does sound much more useful, it comes at a Rs 1,000 premium with that variant priced at Rs 7,999. Entry-level users who don’t intend to push the phone too hard could make do with the lower variant, but we’d recommend you go for the higher variant if you can stretch your budget to that point. The chipset on the phone is quite dated, having been around for about two years now. Nonetheless, it seems to be a popular option for budget devices, thanks to its battery efficiency and capability for basic use. Its age does show to some extent and the phone definitely feels like a budget device from the get go. That isn’t to say that you can’t count on the phone to work when you need it to; it runs just fine. However, it’s only all well when you aren’t pushing the phone too hard, or running too many heavy apps at the same time. Xiaomi Redmi 5A Review: Entry-level, but capable If you keep your usage basic, the 10.or D2 performs fine. You won’t have any issues with WhatsApp and Facebook, and navigating around the interface is alright for the most part. However, you will notice some lag, stuttering in the animations, and more. If you’re looking at a phone to play games more graphics-intensive than Candy Crush Saga, the 10.or D2 may not be the best option for you.  The phone runs Android 8.1 Oreo, which will appeal to a lot of buyers for its simplicity and ease of use. There are also an assortment of Amazon apps built in, which are the strongest indicator of this being an Amazon-designed smartphone. Apart from Amazon Prime Video, Prime Music and Kindle, you also get the Alexa voice-assistant app. None of these apps can be uninstalled though, so if you don’t intend to use them – which is likely to be the case for many buyers since Amazon Prime is a paid service and most e-books on Kindle must be purchased – they could get in your way. Otherwise, the interface is fairly easy to use, and is light enough to not put much additional load on the phone, which is already on the slower side thanks to the dated chipset. Infinix Smart 2 Review: An entry-level phone worth considering In terms of battery life, the 10.or D2 sports a 3,200mAh battery that helps it easily get through close to two days with moderate use. This is also thanks to the frugal chipset and HD+ resolution screen, which add to the battery life. Charging is through a 5W charger bundled in the box, which isn’t fast by any means but it safely gets the job done. Considering that a lot of potential users of this phone will likely deal with irregular power and severe voltage fluctuations, it’s the right kind of charger with battery longevity in mind.  We weren’t really expecting an exceptional camera here, and the 10.or D2 has exactly the camera you pay for. That’s not to say it’s bad; smartphones have improved to the point where even affordable devices such as this can do a decent enough job with the basics. That said, the 13-megapixel rear camera and 5-megapixel front camera get the basics right. 10.or D2 Camera Sample (resized for web) 10.or D2 Camera Sample (resized for web) You’ll get decent enough pictures in good light, which get most of the details right. Colors too are well portrayed, and video is capable enough at 1080p and 30fps. You even have the option to shoot slow-motion and time-lapse videos, and selfies are good enough in well-lit situations. But that’s about as far as it goes. You’ll obviously see the camera struggle a bit in anything but ideal light conditions. The 10.or D2 is an uncomplicated phone, but that isn’t necessarily a bad thing. The device sticks to the basics, offering value in terms of software, battery life, build quality and the screen. And while spending a little more money will get you better performance and features, buyers with a strict budget and no room to stretch will be happy enough with this. And while availability is limited to only Amazon India, the phone isn’t subject to any flash sales or anything of the like; it’s available to buy on open sale. It’s a good starter option, and would even make sense if you want to buy a basic, affordable device for an elderly person, or an employee. And while that name might be confusing, remember that this phone has the backing of Amazon, one of the largest companies in the world.\n",
      "Ali Pardiwala\n",
      "3.5/5\n",
      "https://www.bgr.in/reviews/asus-zenfone-lite-l1-first-impressions-qualcomm-snapdragon-430-budget-smartphones-redmi-6a-realme-c1-flipkart-android-oreo-face-unlock/\n",
      "['1', '430', '6', '1']\n",
      "Asus Zenfone Lite L1 First Impressions: The entry-level war cry\n",
      " The device sports a 5.45-inch IPS display with HD+ resolution, and an 18:9 aspect ratio. Asus has just announced its latest smartphones, the Asus Zenfone Lite L1 and the Asus Zenfone Max M1 for the Indian market. The company has priced the ZenFone Lite L1 at Rs 5,999 and the Zenfone Max M1 at Rs 7,999. Looking at the pricing of both the devices and the specifications, it is evident that Asus is finally planning to take the fight to Xiaomi, the current market leader, in the entry-level and budget segments of the smartphone industry in India. The company has tried to match Xiaomi on specifications and even the pricing to ensure that it can steer potential customers towards itself. Both the devices have been launched in India, and it is evident that Asus is serious about competing with Xiaomi. Before the launch of both these devices, the company was focused on the mid-range and mid-premium segment. The company sent us both the devices and I have been playing with the Zenfone Lite L1 for some time. The device will take on the likes of Redmi 6A and Realme C1, and could even offer a direct challenge to slightly more expensive devices as well. Let’s take a quick look at the Zenfone Lite L1 along with my first impressions. Image credit: Rehan Hooda Asus has got us covered with the baseline specifications in the Zenfone Lite L1 that we have come to expect from an entry-level device like this. This is in line with the competition with a 5.45-inch IPS display with HD+ resolution (1440×720 pixels), and 18:9 aspect ratio. It is powered by the Qualcomm Snapdragon 430 SoC with an octa-core CPU, 2GB RAM, 16GB internal storage along with a dedicated microSD card slot that users can use to expand their storage with up to 256GB. Image credit: Rehan Hooda The Zenfone Lite L1 comes with a dual nano-SIM slot and the company has added other connectivity options including Wi-Fi, Bluetooth v4.0, GPS, a 3.5mm audio jack at the top of the device and a micro-USB port at the bottom. Talking about the cameras, the device comes with a 13-megapixel camera sensor on the back with f/2.0 aperture, phase-detection autofocus system, and an LED flash module along with a 5-megapixel device with f/2.2 aperture and LED flash unit on the front for selfies. Image credit: Rehan Hooda The device comes with a 3,000mAh battery that is respectable for an entry-level device. Zenfone Lite L1 also supports face unlock as a software feature though it is worth noting that it is likely to be not as secure as the sophisticated 3D face unlock systems in premium devices such as the iPhone. Image credit: Rehan Hooda The device does not come with a fingerprint scanner so face unlock can work as a substitute to help you not enter your PIN or pattern every time you want to unlock your device. However, Face Unlock doesn’t work well in the dark, so there will be times you need to use traditional security to unlock the phone.  The Asus Zenfone Lite L1 comes with Android 8 Oreo-based Zen UI 5.0, and if you consider that Android 8.1 Oreo is a different version, is two versions old now. While it might be a bit much to expect Android 9 Pie on such a device this early, we’d have expected Android 8.1 at the very least, so this is a bit of a disappointment. Asus has gone for a single plastic panel on the back of the device that wraps around the front panel along with a “metallic” finish to make the device look premium. Looking from the front, the device does sport the bezels on the top and the bottom of the device but that is not too bad. You will find the volume rocker and the power button on the right side of the device with the 3.5mm audio jack on the top, micro-USB port and a speaker grill at the bottom and the triple slot towards to top of the left side. The earpiece grill is right above the display. Image credit: Rehan Hooda Image credit: Rehan Hooda The thing to note here is that this device is not going to win any awards for its looks. The reason for that is because the company seems to have gone for a more functional design rather than something unique. It is likely because the company is focused on providing a good user experience before it can go ahead to experiment with the design. To note, this design does not look shabby and it serves its purpose. Image credit: Rehan Hooda Another thing here is that Asus has not gone for multiple storage or RAM variants with the Zenfone Lite L1, with just a single configuration being offered. That could have been because this is the first modern device from Asus in this segment, and the company is focused on checking how the market responds to this device and if there is a demand for multiple RAM and storage variants from customers. Asus seems to have gone all in with this offering. The reason to state this is because they have not cut corners on any aspect of the device and the baseline is in line with its competition. Image credit: Rehan Hooda For instance, there is nothing unexpected such as 1GB RAM or something of the sort that would make us question the company about its choice of internals for the device. The offering is evenly balanced with what we have seen in this budget segment. Asus to launch two new entry-level Zenfones today in India: Here's what to expect and watch livestream The Asus Zenfone Lite L1 looks like a decent device on paper in terms of specifications even before you actually use it. During my brief time with the device, it performed well with no noticeable lag and only a few micro stutters. Though, on that note, it is an entry-level device and not in line with the slightly higher budget or mid-range devices that we may have grown accustomed to. Image credit: Rehan Hooda At first glance, it is a solid start from Asus for this segment and it would work well as a backup device or even as the first smartphone for someone upgrading from a feature phone. We will be bringing you a comprehensive review of the phone in the coming days, but at first glance, the Asus Zenfone Lite L1 comes across as a capable entry-level device that has what it takes to challenge the incumbent options from Xiaomi and Realme.\n",
      "Rehan Hooda\n",
      "https://www.bgr.in/reviews/asus-zenfone-max-m1-first-impressions-qualcomm-snapdragon-430-android-oreo-4000-mah-battery-flipkart/\n"
     ]
    },
    {
     "name": "stdout",
     "output_type": "stream",
     "text": [
      "['1', '430', '4000']\n",
      "Asus Zenfone Max M1 First Impressions: Affordable and feature-filled\n",
      " The Zenfone Max M1 sports a 5.45-inch IPS display with HD+ (1440x720 pixels) resolution and 18:9 aspect ratio.\r",
      " The device runs on the Snapdragon 430 with an Octa-core CPU, 3GB RAM and 32GB internal storage.\r",
      " Asus has added a single rear camera at the top left corner with a vertical iPhone X-like design aesthetic featuring the flash. Asus Zenfone Max M1 is the second smartphone that Asus India revealed at its launch event in New Delhi. In addition to the Max M1, the company also announced its Zenfone Lite L1 targeting the entry-level and budget smartphone segment. The company has priced the Zenfone Max M1 at Rs 7,999 and it will be available on Flipkart, although the sale date hasn’t been revealed yet. Both the devices indicate that Asus is ready to take on the likes of Xiaomi, Realme and HMD Global in this segment. Similar to the Zenfone Lite L1, the specifications of the device are in line with what one would expect at such a price point. The company sent us the device along with the Zenfone Lite L1 and I have been using the device for about a day. The Max M1 comes with decent internals well-suited to compete with the likes of Redmi 6, Realme C1, and even the Nokia 3. I have used both the Zenfone Max M1 and the Lite L1 to get a sense of what Asus is aiming at along with my thoughts on their effort. For the large part, on the surface, it looks like Asus has done a good job with both the devices in its attempt to enter the lower-end of the market. Image Credit: Rehan Hooda The launch of both these devices indicates that the company is increasing its portfolio to include more price segments after focusing on the mid-range, mid-premium, and even the flagship market for quite some time. Let’s have a quick look at Asus Zenfone Max M1 and my first impressions for the device. Asus has gone ahead with decent internals with its Zenfone Max M1 so that it has a healthy chance of competing with the rivals. According to the specifications sheet, the Max M1 sports a 5.45-inch IPS display with HD+ (1440×720 pixels) resolution and 18:9 aspect ratio which is similar to the Lite L1. Image Credit: Rehan Hooda Similar to the other device, the device runs on Qualcomm Snapdragon 430 with an Octa-core CPU with 3GB RAM and 32GB internal storage. The company has also added a triple slot where two slots take care of the dual nano SIMs while the third acts as the dedicated microSD card slot. Asus Zenfone Lite L1 First Impressions: The entry-level war cry The Zenfone Max M1 comes with a 13-megapixel primary camera sensor with f/2.0 aperture and an LED flash module on the back of the device and an 8-megapixel sensor with f/2.0 aperture on the front for selfies. Image Credit: Rehan Hooda The device runs Android 8.0 Oreo-based Zen UI 5.0 out of the box.  In terms of connectivity options, the device comes with VoLTE-enabled dual nano-SIM slot, GPS, Wi-Fi, Bluetooth v4.0, 3.5mm audio jack on the top of the device and a micro-USB port at the bottom of the device. Image Credit: Rehan Hooda Image Credit: Rehan Hooda The device comes with a 4,000mAh battery and face unlock feature in the software. However, Asus has also added a fingerprint scanner at the back of the device to offer more options for users to quickly unlock their device. The specifications of the device are almost on part with the competition with an exception of the camera setup, and the SoC. There is a difference in the SoC as some device makers have opted for MediaTek in this price range. Realme C1 First Impressions: The Xiaomi Budget Killer is here The reason for that is because MediaTek SoCs are based on the 12nm manufacturing process while Snapdragon 430 is based on the 28nm manufacturing process. MediaTek chips are also clocked higher at about 2.0 GHz in comparison to the 1.4GHz for Snapdragon 430. But apart from that, the specifications are good for the price, particularly the large battery that will appeal to buyers in this segment. Looking at the specifications and the pricing of the device, it is quite evident that Asus is not making a half-hearted attempt at entering the lower segment. This is much needed if Asus intends to take on established players such as Xiaomi. Image Credit: Rehan Hooda Moving to the design of the device, Similar to what we see on the Lite L1, the Max M1 also comes with a single sheet of plastic at the back of the device that wraps around the front panel. We can see the fingerprint scanner at the bottom of the device with a single camera at the top left corner with a vertical iPhone X-like design aesthetic. The display has no notch and all other components of the device are at the places one would expect them to be. Image Credit: Rehan Hooda The volume rocker and power button are located towards the top on the right side of the device, the nano SIM and microSD card tray is towards the top on the left side of the device, as mentioned previously, the 3.5mm audio jack is on the top of the device with a micro-USB port at the bottom of the device with the speaker grill. A second grill for the earpiece is present on the top of the display. The devices look similar to the 2017 Redmi 5 series and it is likely that the company has not focused much on design. Consolidating and summarising my thoughts about the Asus Zenfone Max M1, Asus has done a good job to kick things off. The pricing and the specifications are competitive to give Asus some traction to attract buyers in this segment. There are some gaps in the design, lack of the dual camera setup, and slower and older SoC, but the company can still compete with the market leaders. Image Credit: Rehan Hooda We will reserve the judgment for the complete review but in the brief time, the device and the attempt by the company have left me hopeful for renewed competition in the lower segment. The devices go on sale on Flipkart soon.\n",
      "Rehan Hooda\n"
     ]
    }
   ],
   "source": [
    "session = requests.Session()\n",
    "hdr = {'User-Agent': 'Mozilla/5.0 (Macintosh; Intel Mac OS X 10_10_5) AppleWebKit/537.36 (KHTML, like Gecko) Chrome/46.0.2490.80 Safari/537.36',\n",
    "                       'Accept': 'text/html,application/xhtml+xml,application/xml;q=0.9,*/*;q=0.8','Accept': 'text/html,application/xhtml+xml,application/xml;q=0.9,*/*;q=0.8',\n",
    "                       'Accept-Charset': 'ISO-8859-1,utf-8;q=0.7,*;q=0.3',\n",
    "                       'Accept-Encoding': 'none',\n",
    "                       'Accept-Language': 'en-US,en;q=0.8',\n",
    "                       'Connection': 'keep-alive'}\n",
    "output_file = open(\"bgr.txt\",'wb')\n",
    "reviews_links = open(\"bgr-urls.txt\", 'r')\n",
    "next = reviews_links.readline()\n",
    "count = 0\n",
    "reviews_links_list = []\n",
    "#print >> output_file, \"review-id\" + \"~\" +\"review-title\" + \"~\" + \"review_link\" + \"~\" + \"pros\" + \"~\" + \"cons\" + \"~\" + \"review_text\" + \"~\" + \"author\" + \"~\" + \"review_date\" + \"~\" + \"star-rating\"\n",
    "while next != \"\": \n",
    "    reviews_links_list.append(next)\n",
    "    next = reviews_links.readline()\n",
    "FinalList=[]\n",
    "for x in reviews_links_list:   \n",
    "    #page_getter = \"http://www.in.techradar.com\" + str(x).strip()\n",
    "    page_getter = str(x).strip()\n",
    "    print page_getter\n",
    "    req = session.get(page_getter, headers = hdr)\n",
    "    soup = BeautifulSoup(req.text,\"lxml\")\n",
    "    review_id = re.findall(r'\\d+', page_getter)\n",
    "    print review_id\n",
    "    try:\n",
    "        rtitle=soup.find(\"h1\", {\"class\":\"title_name\"}).get_text()\n",
    "        print rtitle\n",
    "    except:\n",
    "        rtitle =None\n",
    "#     try:\n",
    "#         pros=soup.find(\"h1\", {\"class\":\"pros\"}).get_text()\n",
    "#         print pros\n",
    "#     except:\n",
    "#         pros =\"NA\"\n",
    "#     try:\n",
    "#         cons=soup.find(\"h1\", {\"class\":\"pros\"}).get_text()\n",
    "#         print cons\n",
    "#     except:\n",
    "#         cons =\"NA\"\n",
    "    try:\n",
    "        rdate = soup.find(\"meta\", {\"itemprop\":\"datePublished\"})['content']\n",
    "        #print rdate\n",
    "    except:\n",
    "        rdate = None\n",
    "    try:\n",
    "        review_text=''\n",
    "        Parent = soup.find_all(\"div\",{\"itemprop\": \"articleBody\"})\n",
    "        for product in Parent:\n",
    "            for tags in product.find_all('p'):\n",
    "                para_text=tags.text\n",
    "                review_text=review_text+\" \"+para_text\n",
    "            print review_text\n",
    "    except:\n",
    "        review_text = None\n",
    "    try:\n",
    "        author=soup.find(\"span\",{\"itemprop\":\"name\"}).get_text()\n",
    "        print author\n",
    "    except:\n",
    "        author=None\n",
    "    try:\n",
    "        srating=soup.find(\"span\", {\"class\":\"rating-d\"}).get_text()\n",
    "        print srating\n",
    "    except:\n",
    "        srating=None\n",
    "    source = {'review_id': review_id[-3], \n",
    "              'review_title':rtitle,\n",
    "              'review_url':page_getter,\n",
    "#               'pros':pros,\n",
    "#               'cons':cons,\n",
    "              'review_date':rdate,\n",
    "              'review_text':review_text,\n",
    "              'reviewer':author,'overallrating':srating}\n",
    "    FinalList.append(source)\n",
    "    \n",
    "    \n",
    "   \n",
    "    \n",
    "       "
   ]
  },
  {
   "cell_type": "code",
   "execution_count": null,
   "metadata": {},
   "outputs": [],
   "source": []
  },
  {
   "cell_type": "code",
   "execution_count": 3,
   "metadata": {},
   "outputs": [
    {
     "name": "stdout",
     "output_type": "stream",
     "text": [
      "<class 'pandas.core.frame.DataFrame'>\n",
      "RangeIndex: 3 entries, 0 to 2\n",
      "Data columns (total 7 columns):\n",
      "overallrating    1 non-null object\n",
      "review_date      3 non-null object\n",
      "review_id        3 non-null object\n",
      "review_text      3 non-null object\n",
      "review_title     3 non-null object\n",
      "review_url       3 non-null object\n",
      "reviewer         3 non-null object\n",
      "dtypes: object(7)\n",
      "memory usage: 240.0+ bytes\n",
      "None\n"
     ]
    },
    {
     "data": {
      "text/html": [
       "<div>\n",
       "<style scoped>\n",
       "    .dataframe tbody tr th:only-of-type {\n",
       "        vertical-align: middle;\n",
       "    }\n",
       "\n",
       "    .dataframe tbody tr th {\n",
       "        vertical-align: top;\n",
       "    }\n",
       "\n",
       "    .dataframe thead th {\n",
       "        text-align: right;\n",
       "    }\n",
       "</style>\n",
       "<table border=\"1\" class=\"dataframe\">\n",
       "  <thead>\n",
       "    <tr style=\"text-align: right;\">\n",
       "      <th></th>\n",
       "      <th>overallrating</th>\n",
       "      <th>review_date</th>\n",
       "      <th>review_id</th>\n",
       "      <th>review_text</th>\n",
       "      <th>review_title</th>\n",
       "      <th>review_url</th>\n",
       "      <th>reviewer</th>\n",
       "    </tr>\n",
       "  </thead>\n",
       "  <tbody>\n",
       "    <tr>\n",
       "      <th>0</th>\n",
       "      <td>3.5/5</td>\n",
       "      <td>2018-08-30T09:19:12+05:30</td>\n",
       "      <td>425</td>\n",
       "      <td>The 10.or D2 is priced from Rs 6,999, and is ...</td>\n",
       "      <td>10.or D2 Review: Built for the basics</td>\n",
       "      <td>https://www.bgr.in/reviews/10-or-d2-review-sma...</td>\n",
       "      <td>Ali Pardiwala</td>\n",
       "    </tr>\n",
       "    <tr>\n",
       "      <th>1</th>\n",
       "      <td>None</td>\n",
       "      <td>2018-10-17T14:07:33+05:30</td>\n",
       "      <td>430</td>\n",
       "      <td>The Zenfone Lite L1 is powered by the Qualcom...</td>\n",
       "      <td>Asus Zenfone Lite L1 First Impressions: The en...</td>\n",
       "      <td>https://www.bgr.in/reviews/asus-zenfone-lite-l...</td>\n",
       "      <td>Rehan Hooda</td>\n",
       "    </tr>\n",
       "    <tr>\n",
       "      <th>2</th>\n",
       "      <td>None</td>\n",
       "      <td>2018-10-17T14:37:14+05:30</td>\n",
       "      <td>1</td>\n",
       "      <td>The Zenfone Max M1 sports a 5.45-inch IPS dis...</td>\n",
       "      <td>Asus Zenfone Max M1 First Impressions: Afforda...</td>\n",
       "      <td>https://www.bgr.in/reviews/asus-zenfone-max-m1...</td>\n",
       "      <td>Rehan Hooda</td>\n",
       "    </tr>\n",
       "  </tbody>\n",
       "</table>\n",
       "</div>"
      ],
      "text/plain": [
       "  overallrating                review_date review_id  \\\n",
       "0         3.5/5  2018-08-30T09:19:12+05:30       425   \n",
       "1          None  2018-10-17T14:07:33+05:30       430   \n",
       "2          None  2018-10-17T14:37:14+05:30         1   \n",
       "\n",
       "                                         review_text  \\\n",
       "0   The 10.or D2 is priced from Rs 6,999, and is ...   \n",
       "1   The Zenfone Lite L1 is powered by the Qualcom...   \n",
       "2   The Zenfone Max M1 sports a 5.45-inch IPS dis...   \n",
       "\n",
       "                                        review_title  \\\n",
       "0              10.or D2 Review: Built for the basics   \n",
       "1  Asus Zenfone Lite L1 First Impressions: The en...   \n",
       "2  Asus Zenfone Max M1 First Impressions: Afforda...   \n",
       "\n",
       "                                          review_url       reviewer  \n",
       "0  https://www.bgr.in/reviews/10-or-d2-review-sma...  Ali Pardiwala  \n",
       "1  https://www.bgr.in/reviews/asus-zenfone-lite-l...    Rehan Hooda  \n",
       "2  https://www.bgr.in/reviews/asus-zenfone-max-m1...    Rehan Hooda  "
      ]
     },
     "execution_count": 3,
     "metadata": {},
     "output_type": "execute_result"
    }
   ],
   "source": [
    "import pandas as pd\n",
    "import csv\n",
    "test_df = pd.DataFrame(FinalList)\n",
    "print(test_df.info())\n",
    "test_df"
   ]
  },
  {
   "cell_type": "code",
   "execution_count": 25,
   "metadata": {},
   "outputs": [],
   "source": [
    "test_df.to_csv(\"BGR.csv\",encoding='utf-8')"
   ]
  },
  {
   "cell_type": "code",
   "execution_count": null,
   "metadata": {},
   "outputs": [],
   "source": []
  },
  {
   "cell_type": "code",
   "execution_count": 24,
   "metadata": {},
   "outputs": [],
   "source": []
  },
  {
   "cell_type": "code",
   "execution_count": null,
   "metadata": {},
   "outputs": [],
   "source": []
  }
 ],
 "metadata": {
  "kernelspec": {
   "display_name": "Python 2",
   "language": "python",
   "name": "python2"
  },
  "language_info": {
   "codemirror_mode": {
    "name": "ipython",
    "version": 2
   },
   "file_extension": ".py",
   "mimetype": "text/x-python",
   "name": "python",
   "nbconvert_exporter": "python",
   "pygments_lexer": "ipython2",
   "version": "2.7.15"
  }
 },
 "nbformat": 4,
 "nbformat_minor": 2
}
