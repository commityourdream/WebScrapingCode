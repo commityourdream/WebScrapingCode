{
 "cells": [
  {
   "cell_type": "code",
   "execution_count": 1,
   "metadata": {},
   "outputs": [],
   "source": [
    "import requests\n",
    "import csv\n",
    "import re\n",
    "import unicodecsv\n",
    "from bs4 import BeautifulSoup\n",
    "#import socks\n",
    "import socket\n",
    "import pandas as pd\n",
    "\n",
    "session = requests.Session()\n"
   ]
  },
  {
   "cell_type": "code",
   "execution_count": 2,
   "metadata": {},
   "outputs": [],
   "source": [
    "base_url = 'https://www.techradar.com/reviews/phones/mobile-phones?productBrand=LG'\n",
    "flipkart_df= pd.DataFrame()\n"
   ]
  },
  {
   "cell_type": "code",
   "execution_count": 3,
   "metadata": {},
   "outputs": [
    {
     "name": "stdout",
     "output_type": "stream",
     "text": [
      "[]\n"
     ]
    }
   ],
   "source": [
    "URL=[]\n",
    "r=requests.get(base_url)\n",
    "soup1 = BeautifulSoup(r.text,\"html5lib\")\n",
    "all_links = [link.get('href') for link in soup1.findAll(class_='listingResult small result1 ', href=True)]\n",
    "print(all_links)"
   ]
  },
  {
   "cell_type": "code",
   "execution_count": 4,
   "metadata": {},
   "outputs": [
    {
     "name": "stdout",
     "output_type": "stream",
     "text": [
      "https://www.techradar.com/reviews/phones/mobile-phones/lg-x-style-1323845/review\n",
      "https://www.techradar.com/reviews/phones/mobile-phones/lg-x-cam-1315192/review\n",
      "https://www.techradar.com/reviews/phones/mobile-phones/lg-k7-1312017/review\n",
      "https://www.techradar.com/reviews/phones/mobile-phones/lg-k10-1312673/review\n",
      "https://www.techradar.com/reviews/phones/mobile-phones/lg-g4c-1302324/review\n",
      "https://www.techradar.com/reviews/phones/mobile-phones/lg-g3-1250581/review\n",
      "https://www.techradar.com/reviews/phones/mobile-phones/lg-g-flex-2-1263346/review\n",
      "https://www.techradar.com/reviews/phones/mobile-phones/lg-magna-1285626/review\n",
      "https://www.techradar.com/reviews/phones/mobile-phones/lg-spirit-1285627/review\n",
      "https://www.techradar.com/reviews/phones/mobile-phones/lg-joy-1285624/review\n"
     ]
    },
    {
     "name": "stderr",
     "output_type": "stream",
     "text": [
      "/Users/amitk/anaconda2/lib/python2.7/site-packages/bs4/__init__.py:181: UserWarning: No parser was explicitly specified, so I'm using the best available HTML parser for this system (\"lxml\"). This usually isn't a problem, but if you run this code on another system, or in a different virtual environment, it may use a different parser and behave differently.\n",
      "\n",
      "The code that caused this warning is on line 174 of the file /Users/amitk/anaconda2/lib/python2.7/runpy.py. To get rid of this warning, change code that looks like this:\n",
      "\n",
      " BeautifulSoup(YOUR_MARKUP})\n",
      "\n",
      "to this:\n",
      "\n",
      " BeautifulSoup(YOUR_MARKUP, \"lxml\")\n",
      "\n",
      "  markup_type=markup_type))\n"
     ]
    }
   ],
   "source": [
    "from bs4 import BeautifulSoup\n",
    "import urllib2\n",
    "import re\n",
    " \n",
    "html_page = urllib2.urlopen(\"https://www.techradar.com/more/reviews/phones/mobile-phones/1468416299?productBrand=LG\")\n",
    "soup = BeautifulSoup(html_page)\n",
    "for link in soup.findAll('a', attrs={'href': re.compile(\"^https://www.techradar.com/reviews/phones/mobile-phones/\")}):\n",
    "    print link.get('href')"
   ]
  },
  {
   "cell_type": "code",
   "execution_count": 7,
   "metadata": {},
   "outputs": [
    {
     "name": "stdout",
     "output_type": "stream",
     "text": [
      "https://www.techradar.com/reviews/htc-u12-life-review\n"
     ]
    }
   ],
   "source": [
    "from bs4 import BeautifulSoup\n",
    "import urllib2\n",
    "import re\n",
    " \n",
    "html_page = urllib2.urlopen(\"https://www.techradar.com/reviews/phones/mobile-phones?productBrand=HTC\")\n",
    "soup = BeautifulSoup(html_page)\n",
    "for link in soup.findAll('div', attrs={'class':'listingResult small result1 ','data-page':'1'}):\n",
    "    print link.a['href']"
   ]
  },
  {
   "cell_type": "code",
   "execution_count": null,
   "metadata": {},
   "outputs": [],
   "source": []
  },
  {
   "cell_type": "code",
   "execution_count": null,
   "metadata": {},
   "outputs": [],
   "source": []
  }
 ],
 "metadata": {
  "kernelspec": {
   "display_name": "Python 2",
   "language": "python",
   "name": "python2"
  },
  "language_info": {
   "codemirror_mode": {
    "name": "ipython",
    "version": 2
   },
   "file_extension": ".py",
   "mimetype": "text/x-python",
   "name": "python",
   "nbconvert_exporter": "python",
   "pygments_lexer": "ipython2",
   "version": "2.7.15"
  }
 },
 "nbformat": 4,
 "nbformat_minor": 2
}
