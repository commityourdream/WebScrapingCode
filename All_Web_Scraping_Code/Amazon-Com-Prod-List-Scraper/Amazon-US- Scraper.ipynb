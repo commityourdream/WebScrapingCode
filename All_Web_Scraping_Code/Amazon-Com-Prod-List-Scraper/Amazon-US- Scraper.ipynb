{
 "cells": [
  {
   "cell_type": "markdown",
   "metadata": {},
   "source": [
    "# Product_List#################"
   ]
  },
  {
   "cell_type": "code",
   "execution_count": 2,
   "metadata": {},
   "outputs": [],
   "source": [
    "import re\n",
    "import urllib2\n",
    "import urllib\n",
    "from bs4 import BeautifulSoup\n",
    "import requests\n",
    "import random\n",
    "import time\n",
    "import random\n",
    "import pandas as pd\n",
    "import numpy as np\n",
    "import bs4"
   ]
  },
  {
   "cell_type": "code",
   "execution_count": 3,
   "metadata": {},
   "outputs": [],
   "source": [
    "def select_random_proxy(proxy_sf):\n",
    "    row_num = random.randint(0, len(proxy_sf) - 1)\n",
    "    proxy_ip = \"http://{}:{}@{}:{}\".format(proxy_sf.iloc[row_num]['user'],\n",
    "                                               proxy_sf.iloc[row_num]['pass'],\n",
    "                                               proxy_sf.iloc[row_num]['ip'],\n",
    "                                               proxy_sf.iloc[row_num]['port'])\n",
    "    proxy = {\"http\": proxy_ip, \"https\":proxy_ip}\n",
    "    return proxy\n",
    "proxies = pd.read_csv('proxies_15Apr.csv',sep=':')"
   ]
  },
  {
   "cell_type": "code",
   "execution_count": 4,
   "metadata": {},
   "outputs": [],
   "source": [
    "def select_random_UserAgent(UseragentList):\n",
    "    row_num = random.randint(0, len(UseragentList) - 1)\n",
    "    return UseragentList['User-agent'].iloc[row_num]"
   ]
  },
  {
   "cell_type": "code",
   "execution_count": 5,
   "metadata": {},
   "outputs": [],
   "source": [
    "List=pd.read_csv('useragent - Sheet1 (1).csv')"
   ]
  },
  {
   "cell_type": "code",
   "execution_count": 6,
   "metadata": {},
   "outputs": [],
   "source": [
    "headers = {\"accept\": \"text/html,application/xhtml+xml,application/xml;q=0.9,image/webp,image/apng,*/*;q=0.8\",\n",
    "           \"accept-encoding\": \"gzip, deflate, br\",\n",
    "           \"accept-language\": \"en-GB,en-US;q=0.9,en;q=0.8,pl;q=0.7\",\n",
    "           \"cache-control\": \"max-age=0\",\n",
    "           \"referer\": \"www.amazon.com\",\n",
    "           \"upgrade-insecure-requests\":\"1\",\n",
    "           \"user-agent\": select_random_UserAgent(List)}"
   ]
  },
  {
   "cell_type": "code",
   "execution_count": null,
   "metadata": {},
   "outputs": [],
   "source": []
  }
 ],
 "metadata": {
  "kernelspec": {
   "display_name": "Python 2",
   "language": "python",
   "name": "python2"
  },
  "language_info": {
   "codemirror_mode": {
    "name": "ipython",
    "version": 2
   },
   "file_extension": ".py",
   "mimetype": "text/x-python",
   "name": "python",
   "nbconvert_exporter": "python",
   "pygments_lexer": "ipython2",
   "version": "2.7.15"
  }
 },
 "nbformat": 4,
 "nbformat_minor": 2
}
